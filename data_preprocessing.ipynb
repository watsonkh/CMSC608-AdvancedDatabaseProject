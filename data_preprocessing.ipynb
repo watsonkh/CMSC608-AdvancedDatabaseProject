{
 "cells": [
  {
   "cell_type": "code",
   "execution_count": 2,
   "metadata": {},
   "outputs": [],
   "source": [
    "import pandas as pd\n",
    "import spacy\n",
    "from spacy import displacy"
   ]
  },
  {
   "cell_type": "code",
   "execution_count": 13,
   "metadata": {},
   "outputs": [],
   "source": [
    "nlp = spacy.load(\"output/model-best\")"
   ]
  },
  {
   "cell_type": "code",
   "execution_count": null,
   "metadata": {},
   "outputs": [],
   "source": [
    "# Citation: https://deepgram.com/learn/turning-recipes-into-data-with-named-entity-recognition\n",
    "\n",
    "from fractions import Fraction\n",
    "import re\n",
    "\n",
    "\n",
    "def fraction_to_mixed_number(fraction: Fraction) -> str:\n",
    "  if fraction.numerator >= fraction.denominator:\n",
    "    whole, remainder = divmod(fraction.numerator, fraction.denominator)\n",
    "    if remainder == 0:\n",
    "      return str(whole)\n",
    "    else:\n",
    "      return f\"{whole} {Fraction(remainder, fraction.denominator)}\"\n",
    "  else:\n",
    "    return str(fraction)\n",
    "\n",
    "\n",
    "def convert_floats_to_fractions(text: str) -> str:\n",
    "    return re.sub(\n",
    "        r'\\b-?\\d+\\.\\d+\\b',\n",
    "        lambda match: fraction_to_mixed_number(\n",
    "            Fraction(float(match.group())).limit_denominator()), text\n",
    "        )\n",
    "def remove_parentheses(text: str) -> str:\n",
    "  return re.sub(\n",
    "    r\"\\s*\\([^)]*\\)\", \"\", text\n",
    "  )\n",
    "\n",
    "\n",
    "def process_text(text):\n",
    "  \"\"\"\n",
    "  A wrapper function to pre-process text and run it through our pipeline.\n",
    "  \"\"\"\n",
    "  return nlp(convert_floats_to_fractions(remove_parentheses(text)))"
   ]
  },
  {
   "cell_type": "code",
   "execution_count": 91,
   "metadata": {},
   "outputs": [
    {
     "name": "stdout",
     "output_type": "stream",
     "text": [
      "1\\/2 -> QUANTITY\n",
      "cup -> UNIT\n",
      "chopped -> PROCESS\n",
      "fresh -> PHYSICAL_QUALITY\n",
      "parsley -> FOOD\n",
      "leaves -> UNIT\n",
      "divided -> PROCESS\n",
      "{'QUANTITY': [1\\/2], 'UNIT': [cup, leaves], 'PROCESS': [chopped, divided], 'PHYSICAL_QUALITY': [fresh], 'FOOD': [parsley]}\n"
     ]
    }
   ],
   "source": [
    "doc = nlp(\"1\\/2 cup chopped fresh parsley leaves, divided)\")\n",
    "entitity_map = {}\n",
    "for ent in doc.ents:\n",
    "    if ent.label_ not in entitity_map:\n",
    "        entitity_map[ent.label_] = [ent]\n",
    "    else:\n",
    "        entitity_map[ent.label_].append(ent)\n",
    "\n",
    "    print(f\"{ent} -> {ent.label_}\")\n",
    "print(entitity_map)"
   ]
  },
  {
   "cell_type": "code",
   "execution_count": 77,
   "metadata": {},
   "outputs": [],
   "source": [
    "def simplify_recipe_schema(schema):\n",
    "    ingredients = schema[\"recipeIngredient\"]\n",
    "    steps_raw = schema[\"recipeInstructions\"]\n",
    "    steps = []\n",
    "    for i, step_dict in enumerate(steps_raw):\n",
    "        steps.append({\n",
    "            \"order\": i,\n",
    "            \"description\": step_dict[\"text\"],\n",
    "            \"image_url\": step_dict[\"image\"][0][\"url\"] if \"image\" in step_dict else None\n",
    "        })\n",
    "\n",
    "    recipe = {\n",
    "        \"name\": schema[\"headline\"],\n",
    "        \"description\": schema[\"description\"],\n",
    "        \"servings\": schema[\"nutrition\"][\"servingSize\"] \n",
    "                    if \"nutrition\" in schema and \"servingSize\" in schema[\"nutrition\"] else None,\n",
    "        \"mainImageUrl\": schema[\"image\"][\"url\"] if \"image\" in schema else None,\n",
    "        \"ingredients\": ingredients,\n",
    "        \"steps\": steps\n",
    "    }\n",
    "    return recipe"
   ]
  },
  {
   "cell_type": "code",
   "execution_count": 78,
   "metadata": {},
   "outputs": [],
   "source": [
    "recipes_fp = \"recipes_dump.json\"\n",
    "recipe_df = pd.read_json(recipes_fp).to_numpy()\n",
    "recipes_list = []\n",
    "for recipe_list in recipe_df:\n",
    "    for schema in recipe_list:\n",
    "        simplified = simplify_recipe_schema(schema)\n",
    "        recipes_list.append(simplified)"
   ]
  },
  {
   "cell_type": "code",
   "execution_count": 79,
   "metadata": {},
   "outputs": [],
   "source": [
    "import json\n",
    "with open(\"recipe_semi_cleaned.jsonl\", \"w\") as file:\n",
    "    for recipe in recipes_list:\n",
    "        json.dump(recipe, file)\n",
    "        file.write(\"\\n\")\n",
    "        "
   ]
  },
  {
   "cell_type": "code",
   "execution_count": null,
   "metadata": {},
   "outputs": [],
   "source": []
  }
 ],
 "metadata": {
  "kernelspec": {
   "display_name": ".venv",
   "language": "python",
   "name": "python3"
  },
  "language_info": {
   "codemirror_mode": {
    "name": "ipython",
    "version": 3
   },
   "file_extension": ".py",
   "mimetype": "text/x-python",
   "name": "python",
   "nbconvert_exporter": "python",
   "pygments_lexer": "ipython3",
   "version": "3.11.4"
  }
 },
 "nbformat": 4,
 "nbformat_minor": 2
}
